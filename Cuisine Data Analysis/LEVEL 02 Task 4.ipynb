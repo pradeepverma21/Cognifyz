{
 "cells": [
  {
   "cell_type": "code",
   "execution_count": 1,
   "id": "a48417b7",
   "metadata": {},
   "outputs": [
    {
     "name": "stdout",
     "output_type": "stream",
     "text": [
      "Identified Chains:\n",
      "Index(['Cafe Coffee Day', 'Domino's Pizza', 'Subway', 'Green Chick Chop',\n",
      "       'McDonald's', 'Keventers', 'Pizza Hut', 'Giani', 'Baskin Robbins',\n",
      "       'Barbeque Nation',\n",
      "       ...\n",
      "       'Raasta', 'The Pint Room', 'Snacks Point', 'The Dosa King', 'Chokola',\n",
      "       'Town Hall', 'Halki Aanch', 'Snack Junction', 'Delhi Biryani Hut',\n",
      "       'Beliram Degchiwala'],\n",
      "      dtype='object', length=734)\n",
      "\n",
      "Average Ratings by Chain:\n",
      "Restaurant Name\n",
      "10 Downing Street       4.000000\n",
      "221 B Baker Street      3.366667\n",
      "34 Parkstreet Lane      3.050000\n",
      "34, Chowringhee Lane    2.791667\n",
      "4700BC Popcorn          3.500000\n",
      "                          ...   \n",
      "Zaika                   2.850000\n",
      "Zaika Kathi Rolls       1.500000\n",
      "Zizo                    3.866667\n",
      "Zooby's Kitchen         3.150000\n",
      "bu��no                  3.750000\n",
      "Name: Aggregate rating, Length: 734, dtype: float64\n",
      "\n",
      "Popularity by Chain (Total Votes):\n",
      "Restaurant Name\n",
      "10 Downing Street        670\n",
      "221 B Baker Street       215\n",
      "34 Parkstreet Lane        31\n",
      "34, Chowringhee Lane     777\n",
      "4700BC Popcorn           176\n",
      "                        ... \n",
      "Zaika                    245\n",
      "Zaika Kathi Rolls         16\n",
      "Zizo                    1371\n",
      "Zooby's Kitchen           52\n",
      "bu��no                   117\n",
      "Name: Votes, Length: 734, dtype: int64\n"
     ]
    }
   ],
   "source": [
    "import pandas as pd\n",
    "\n",
    "\n",
    "df = pd.read_csv('cuisine_dataset.csv')\n",
    "\n",
    "# Identify Restaurant Chains\n",
    "restaurant_counts = df['Restaurant Name'].value_counts()\n",
    "chains = restaurant_counts[restaurant_counts > 1].index\n",
    "\n",
    "# Analyze Ratings and Popularity\n",
    "chain_data = df[df['Restaurant Name'].isin(chains)]\n",
    "avg_ratings_by_chain = chain_data.groupby('Restaurant Name')['Aggregate rating'].mean()\n",
    "popularity_by_chain = chain_data.groupby('Restaurant Name')['Votes'].sum()\n",
    "\n",
    "# Display results\n",
    "print(\"Identified Chains:\")\n",
    "print(chains)\n",
    "print(\"\\nAverage Ratings by Chain:\")\n",
    "print(avg_ratings_by_chain)\n",
    "print(\"\\nPopularity by Chain (Total Votes):\")\n",
    "print(popularity_by_chain)\n"
   ]
  },
  {
   "cell_type": "code",
   "execution_count": null,
   "id": "b356e465",
   "metadata": {},
   "outputs": [],
   "source": []
  }
 ],
 "metadata": {
  "kernelspec": {
   "display_name": "Python 3 (ipykernel)",
   "language": "python",
   "name": "python3"
  },
  "language_info": {
   "codemirror_mode": {
    "name": "ipython",
    "version": 3
   },
   "file_extension": ".py",
   "mimetype": "text/x-python",
   "name": "python",
   "nbconvert_exporter": "python",
   "pygments_lexer": "ipython3",
   "version": "3.10.9"
  }
 },
 "nbformat": 4,
 "nbformat_minor": 5
}
