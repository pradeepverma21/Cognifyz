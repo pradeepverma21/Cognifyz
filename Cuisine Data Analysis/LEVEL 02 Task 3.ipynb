{
 "cells": [
  {
   "cell_type": "code",
   "execution_count": 2,
   "id": "31fe2532",
   "metadata": {},
   "outputs": [
    {
     "name": "stdout",
     "output_type": "stream",
     "text": [
      "Defaulting to user installation because normal site-packages is not writeable\n",
      "Collecting folium\n",
      "  Using cached folium-0.15.1-py2.py3-none-any.whl (97 kB)\n",
      "Collecting xyzservices\n",
      "  Using cached xyzservices-2023.10.1-py3-none-any.whl (56 kB)\n",
      "Requirement already satisfied: requests in c:\\programdata\\anaconda3\\lib\\site-packages (from folium) (2.28.1)\n",
      "Collecting branca>=0.6.0\n",
      "  Downloading branca-0.7.1-py3-none-any.whl (25 kB)\n",
      "Requirement already satisfied: numpy in c:\\programdata\\anaconda3\\lib\\site-packages (from folium) (1.23.5)\n",
      "Requirement already satisfied: jinja2>=2.9 in c:\\programdata\\anaconda3\\lib\\site-packages (from folium) (3.1.2)\n",
      "Requirement already satisfied: MarkupSafe>=2.0 in c:\\programdata\\anaconda3\\lib\\site-packages (from jinja2>=2.9->folium) (2.1.1)\n",
      "Requirement already satisfied: certifi>=2017.4.17 in c:\\programdata\\anaconda3\\lib\\site-packages (from requests->folium) (2022.12.7)\n",
      "Requirement already satisfied: charset-normalizer<3,>=2 in c:\\programdata\\anaconda3\\lib\\site-packages (from requests->folium) (2.0.4)\n",
      "Requirement already satisfied: urllib3<1.27,>=1.21.1 in c:\\programdata\\anaconda3\\lib\\site-packages (from requests->folium) (1.26.14)\n",
      "Requirement already satisfied: idna<4,>=2.5 in c:\\programdata\\anaconda3\\lib\\site-packages (from requests->folium) (3.4)\n",
      "Installing collected packages: xyzservices, branca, folium\n",
      "Successfully installed branca-0.7.1 folium-0.15.1 xyzservices-2023.10.1\n"
     ]
    }
   ],
   "source": [
    "!pip install folium"
   ]
  },
  {
   "cell_type": "markdown",
   "id": "785f3093",
   "metadata": {},
   "source": [
    "## Task 3"
   ]
  },
  {
   "cell_type": "code",
   "execution_count": 5,
   "id": "c4f5ef5a",
   "metadata": {},
   "outputs": [],
   "source": [
    "import folium\n",
    "from folium.plugins import MarkerCluster\n",
    "import pandas as pd\n",
    "df = pd.read_csv('cuisine_dataset.csv')\n",
    "\n",
    "# Create a map centered on the average latitude and longitude\n",
    "average_latitude = df['Latitude'].mean()\n",
    "average_longitude = df['Longitude'].mean()\n",
    "restaurant_map = folium.Map(location=[average_latitude, average_longitude], zoom_start=12)\n",
    "\n",
    "# Create a MarkerCluster for efficient handling of a large number of markers\n",
    "marker_cluster = MarkerCluster().add_to(restaurant_map)\n",
    "\n",
    "# Add markers for each restaurant\n",
    "for index, row in df.iterrows():\n",
    "    folium.Marker(location=[row['Latitude'], row['Longitude']], popup=row['Restaurant Name']).add_to(marker_cluster)\n",
    "\n",
    "# Save the map as an HTML file\n",
    "restaurant_map.save('restaurant_locations_map.html')\n"
   ]
  },
  {
   "cell_type": "code",
   "execution_count": 6,
   "id": "243cedb8",
   "metadata": {},
   "outputs": [
    {
     "data": {
      "text/plain": [
       "True"
      ]
     },
     "execution_count": 6,
     "metadata": {},
     "output_type": "execute_result"
    }
   ],
   "source": [
    "import webbrowser\n",
    "\n",
    "# Open the HTML file in the default web browser\n",
    "webbrowser.open('restaurant_locations_map.html')\n"
   ]
  },
  {
   "cell_type": "code",
   "execution_count": null,
   "id": "ff2e2115",
   "metadata": {},
   "outputs": [],
   "source": []
  }
 ],
 "metadata": {
  "kernelspec": {
   "display_name": "Python 3 (ipykernel)",
   "language": "python",
   "name": "python3"
  },
  "language_info": {
   "codemirror_mode": {
    "name": "ipython",
    "version": 3
   },
   "file_extension": ".py",
   "mimetype": "text/x-python",
   "name": "python",
   "nbconvert_exporter": "python",
   "pygments_lexer": "ipython3",
   "version": "3.10.9"
  }
 },
 "nbformat": 4,
 "nbformat_minor": 5
}
